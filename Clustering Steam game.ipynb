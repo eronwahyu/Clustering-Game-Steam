{
 "cells": [
  {
   "cell_type": "code",
   "execution_count": 1,
   "metadata": {},
   "outputs": [],
   "source": [
    "#Import library yang dibutuhkan\n",
    "import numpy as py\n",
    "import pandas as pd\n",
    "import matplotlib.pyplot as plt\n",
    "from sklearn import cluster"
   ]
  },
  {
   "cell_type": "code",
   "execution_count": 2,
   "metadata": {},
   "outputs": [],
   "source": [
    "#Generate our datasets\n",
    "steam = pd.read_csv(\"steam_games.csv\")"
   ]
  },
  {
   "cell_type": "code",
   "execution_count": 3,
   "metadata": {
    "scrolled": true
   },
   "outputs": [
    {
     "data": {
      "text/html": [
       "<div>\n",
       "<style scoped>\n",
       "    .dataframe tbody tr th:only-of-type {\n",
       "        vertical-align: middle;\n",
       "    }\n",
       "\n",
       "    .dataframe tbody tr th {\n",
       "        vertical-align: top;\n",
       "    }\n",
       "\n",
       "    .dataframe thead th {\n",
       "        text-align: right;\n",
       "    }\n",
       "</style>\n",
       "<table border=\"1\" class=\"dataframe\">\n",
       "  <thead>\n",
       "    <tr style=\"text-align: right;\">\n",
       "      <th></th>\n",
       "      <th>url</th>\n",
       "      <th>types</th>\n",
       "      <th>name</th>\n",
       "      <th>desc_snippet</th>\n",
       "      <th>recent_reviews</th>\n",
       "      <th>all_reviews</th>\n",
       "      <th>release_date</th>\n",
       "      <th>developer</th>\n",
       "      <th>publisher</th>\n",
       "      <th>popular_tags</th>\n",
       "      <th>game_details</th>\n",
       "      <th>languages</th>\n",
       "      <th>achievements</th>\n",
       "      <th>genre</th>\n",
       "      <th>game_description</th>\n",
       "      <th>mature_content</th>\n",
       "      <th>minimum_requirements</th>\n",
       "      <th>recommended_requirements</th>\n",
       "      <th>original_price</th>\n",
       "      <th>discount_price</th>\n",
       "    </tr>\n",
       "  </thead>\n",
       "  <tbody>\n",
       "    <tr>\n",
       "      <td>0</td>\n",
       "      <td>https://store.steampowered.com/app/379720/DOOM/</td>\n",
       "      <td>app</td>\n",
       "      <td>DOOM</td>\n",
       "      <td>Now includes all three premium DLC packs (Unto...</td>\n",
       "      <td>Very Positive,(554),- 89% of the 554 user revi...</td>\n",
       "      <td>Very Positive,(42,550),- 92% of the 42,550 use...</td>\n",
       "      <td>May 12, 2016</td>\n",
       "      <td>id Software</td>\n",
       "      <td>Bethesda Softworks,Bethesda Softworks</td>\n",
       "      <td>FPS,Gore,Action,Demons,Shooter,First-Person,Gr...</td>\n",
       "      <td>Single-player,Multi-player,Co-op,Steam Achieve...</td>\n",
       "      <td>English,French,Italian,German,Spanish - Spain,...</td>\n",
       "      <td>54.0</td>\n",
       "      <td>Action</td>\n",
       "      <td>About This Game Developed by id software, the...</td>\n",
       "      <td>NaN</td>\n",
       "      <td>Minimum:,OS:,Windows 7/8.1/10 (64-bit versions...</td>\n",
       "      <td>Recommended:,OS:,Windows 7/8.1/10 (64-bit vers...</td>\n",
       "      <td>$19.99</td>\n",
       "      <td>$14.99</td>\n",
       "    </tr>\n",
       "    <tr>\n",
       "      <td>1</td>\n",
       "      <td>https://store.steampowered.com/app/578080/PLAY...</td>\n",
       "      <td>app</td>\n",
       "      <td>PLAYERUNKNOWN'S BATTLEGROUNDS</td>\n",
       "      <td>PLAYERUNKNOWN'S BATTLEGROUNDS is a battle roya...</td>\n",
       "      <td>Mixed,(6,214),- 49% of the 6,214 user reviews ...</td>\n",
       "      <td>Mixed,(836,608),- 49% of the 836,608 user revi...</td>\n",
       "      <td>Dec 21, 2017</td>\n",
       "      <td>PUBG Corporation</td>\n",
       "      <td>PUBG Corporation,PUBG Corporation</td>\n",
       "      <td>Survival,Shooter,Multiplayer,Battle Royale,PvP...</td>\n",
       "      <td>Multi-player,Online Multi-Player,Stats</td>\n",
       "      <td>English,Korean,Simplified Chinese,French,Germa...</td>\n",
       "      <td>37.0</td>\n",
       "      <td>Action,Adventure,Massively Multiplayer</td>\n",
       "      <td>About This Game  PLAYERUNKNOWN'S BATTLEGROUND...</td>\n",
       "      <td>Mature Content Description  The developers de...</td>\n",
       "      <td>Minimum:,Requires a 64-bit processor and opera...</td>\n",
       "      <td>Recommended:,Requires a 64-bit processor and o...</td>\n",
       "      <td>$29.99</td>\n",
       "      <td>NaN</td>\n",
       "    </tr>\n",
       "    <tr>\n",
       "      <td>2</td>\n",
       "      <td>https://store.steampowered.com/app/637090/BATT...</td>\n",
       "      <td>app</td>\n",
       "      <td>BATTLETECH</td>\n",
       "      <td>Take command of your own mercenary outfit of '...</td>\n",
       "      <td>Mixed,(166),- 54% of the 166 user reviews in t...</td>\n",
       "      <td>Mostly Positive,(7,030),- 71% of the 7,030 use...</td>\n",
       "      <td>Apr 24, 2018</td>\n",
       "      <td>Harebrained Schemes</td>\n",
       "      <td>Paradox Interactive,Paradox Interactive</td>\n",
       "      <td>Mechs,Strategy,Turn-Based,Turn-Based Tactics,S...</td>\n",
       "      <td>Single-player,Multi-player,Online Multi-Player...</td>\n",
       "      <td>English,French,German,Russian</td>\n",
       "      <td>128.0</td>\n",
       "      <td>Action,Adventure,Strategy</td>\n",
       "      <td>About This Game  From original BATTLETECH/Mec...</td>\n",
       "      <td>NaN</td>\n",
       "      <td>Minimum:,Requires a 64-bit processor and opera...</td>\n",
       "      <td>Recommended:,Requires a 64-bit processor and o...</td>\n",
       "      <td>$39.99</td>\n",
       "      <td>NaN</td>\n",
       "    </tr>\n",
       "    <tr>\n",
       "      <td>3</td>\n",
       "      <td>https://store.steampowered.com/app/221100/DayZ/</td>\n",
       "      <td>app</td>\n",
       "      <td>DayZ</td>\n",
       "      <td>The post-soviet country of Chernarus is struck...</td>\n",
       "      <td>Mixed,(932),- 57% of the 932 user reviews in t...</td>\n",
       "      <td>Mixed,(167,115),- 61% of the 167,115 user revi...</td>\n",
       "      <td>Dec 13, 2018</td>\n",
       "      <td>Bohemia Interactive</td>\n",
       "      <td>Bohemia Interactive,Bohemia Interactive</td>\n",
       "      <td>Survival,Zombies,Open World,Multiplayer,PvP,Ma...</td>\n",
       "      <td>Multi-player,Online Multi-Player,Steam Worksho...</td>\n",
       "      <td>English,French,Italian,German,Spanish - Spain,...</td>\n",
       "      <td>NaN</td>\n",
       "      <td>Action,Adventure,Massively Multiplayer</td>\n",
       "      <td>About This Game The post-soviet country of Ch...</td>\n",
       "      <td>NaN</td>\n",
       "      <td>Minimum:,OS:,Windows 7/8.1 64-bit,Processor:,I...</td>\n",
       "      <td>Recommended:,OS:,Windows 10 64-bit,Processor:,...</td>\n",
       "      <td>$44.99</td>\n",
       "      <td>NaN</td>\n",
       "    </tr>\n",
       "    <tr>\n",
       "      <td>4</td>\n",
       "      <td>https://store.steampowered.com/app/8500/EVE_On...</td>\n",
       "      <td>app</td>\n",
       "      <td>EVE Online</td>\n",
       "      <td>EVE Online is a community-driven spaceship MMO...</td>\n",
       "      <td>Mixed,(287),- 54% of the 287 user reviews in t...</td>\n",
       "      <td>Mostly Positive,(11,481),- 74% of the 11,481 u...</td>\n",
       "      <td>May 6, 2003</td>\n",
       "      <td>CCP</td>\n",
       "      <td>CCP,CCP</td>\n",
       "      <td>Space,Massively Multiplayer,Sci-fi,Sandbox,MMO...</td>\n",
       "      <td>Multi-player,Online Multi-Player,MMO,Co-op,Onl...</td>\n",
       "      <td>English,German,Russian,French</td>\n",
       "      <td>NaN</td>\n",
       "      <td>Action,Free to Play,Massively Multiplayer,RPG,...</td>\n",
       "      <td>About This Game</td>\n",
       "      <td>NaN</td>\n",
       "      <td>Minimum:,OS:,Windows 7,Processor:,Intel Dual C...</td>\n",
       "      <td>Recommended:,OS:,Windows 10,Processor:,Intel i...</td>\n",
       "      <td>Free</td>\n",
       "      <td>NaN</td>\n",
       "    </tr>\n",
       "    <tr>\n",
       "      <td>...</td>\n",
       "      <td>...</td>\n",
       "      <td>...</td>\n",
       "      <td>...</td>\n",
       "      <td>...</td>\n",
       "      <td>...</td>\n",
       "      <td>...</td>\n",
       "      <td>...</td>\n",
       "      <td>...</td>\n",
       "      <td>...</td>\n",
       "      <td>...</td>\n",
       "      <td>...</td>\n",
       "      <td>...</td>\n",
       "      <td>...</td>\n",
       "      <td>...</td>\n",
       "      <td>...</td>\n",
       "      <td>...</td>\n",
       "      <td>...</td>\n",
       "      <td>...</td>\n",
       "      <td>...</td>\n",
       "      <td>...</td>\n",
       "    </tr>\n",
       "    <tr>\n",
       "      <td>40828</td>\n",
       "      <td>https://store.steampowered.com/app/899836/Rock...</td>\n",
       "      <td>app</td>\n",
       "      <td>Rocksmith® 2014 Edition – Remastered – Sabaton...</td>\n",
       "      <td>NaN</td>\n",
       "      <td>NaN</td>\n",
       "      <td>NaN</td>\n",
       "      <td>Feb 12, 2019</td>\n",
       "      <td>Ubisoft - San Francisco</td>\n",
       "      <td>NaN</td>\n",
       "      <td>Casual,Simulation</td>\n",
       "      <td>Single-player,Shared/Split Screen,Downloadable...</td>\n",
       "      <td>English,German,French,Italian,Spanish - Spain,...</td>\n",
       "      <td>NaN</td>\n",
       "      <td>Casual,Simulation</td>\n",
       "      <td>About This Content Play \"Ghost Division\" by S...</td>\n",
       "      <td>NaN</td>\n",
       "      <td>Minimum:,OS:,Windows Vista, Windows 7, Windows...</td>\n",
       "      <td>Recommended:,OS:,Windows Vista, Windows 7, Win...</td>\n",
       "      <td>$2.99</td>\n",
       "      <td>NaN</td>\n",
       "    </tr>\n",
       "    <tr>\n",
       "      <td>40829</td>\n",
       "      <td>https://store.steampowered.com/app/899832/Rock...</td>\n",
       "      <td>app</td>\n",
       "      <td>Rocksmith® 2014 Edition – Remastered – Stone T...</td>\n",
       "      <td>NaN</td>\n",
       "      <td>NaN</td>\n",
       "      <td>NaN</td>\n",
       "      <td>Feb 5, 2019</td>\n",
       "      <td>Ubisoft - San Francisco</td>\n",
       "      <td>NaN</td>\n",
       "      <td>Casual,Simulation</td>\n",
       "      <td>Single-player,Shared/Split Screen,Downloadable...</td>\n",
       "      <td>English,German,French,Italian,Spanish - Spain,...</td>\n",
       "      <td>NaN</td>\n",
       "      <td>Casual,Simulation</td>\n",
       "      <td>About This Content Play \"Trippin’ on a Hole i...</td>\n",
       "      <td>NaN</td>\n",
       "      <td>Minimum:,OS:,Windows Vista, Windows 7, Windows...</td>\n",
       "      <td>Recommended:,OS:,Windows Vista, Windows 7, Win...</td>\n",
       "      <td>$2.99</td>\n",
       "      <td>NaN</td>\n",
       "    </tr>\n",
       "    <tr>\n",
       "      <td>40830</td>\n",
       "      <td>https://store.steampowered.com/app/906840/Fant...</td>\n",
       "      <td>app</td>\n",
       "      <td>Fantasy Grounds - Quests of Doom 4: A Midnight...</td>\n",
       "      <td>NaN</td>\n",
       "      <td>NaN</td>\n",
       "      <td>NaN</td>\n",
       "      <td>Jul 31, 2018</td>\n",
       "      <td>SmiteWorks USA, LLC</td>\n",
       "      <td>NaN</td>\n",
       "      <td>RPG,Indie,Strategy,Software,Turn-Based,Fantasy...</td>\n",
       "      <td>Multi-player,Co-op,Cross-Platform Multiplayer,...</td>\n",
       "      <td>English</td>\n",
       "      <td>NaN</td>\n",
       "      <td>Indie,RPG,Strategy</td>\n",
       "      <td>About This Content  Quests of Doom 4: A Midni...</td>\n",
       "      <td>NaN</td>\n",
       "      <td>Minimum:,OS:,Windows 7x , 8x or 10x,Processor:...</td>\n",
       "      <td>Recommended:,OS:,Windows 7x , 8x or 10x,Proces...</td>\n",
       "      <td>$7.99</td>\n",
       "      <td>NaN</td>\n",
       "    </tr>\n",
       "    <tr>\n",
       "      <td>40831</td>\n",
       "      <td>https://store.steampowered.com/app/906635/Mega...</td>\n",
       "      <td>app</td>\n",
       "      <td>Mega Man X5 Sound Collection</td>\n",
       "      <td>NaN</td>\n",
       "      <td>NaN</td>\n",
       "      <td>NaN</td>\n",
       "      <td>Jul 24, 2018</td>\n",
       "      <td>CAPCOM CO., LTD</td>\n",
       "      <td>CAPCOM CO., LTD,CAPCOM CO., LTD</td>\n",
       "      <td>Action</td>\n",
       "      <td>Single-player,Downloadable Content,Steam Achie...</td>\n",
       "      <td>English,French,Italian,German,Spanish - Spain,...</td>\n",
       "      <td>NaN</td>\n",
       "      <td>Action</td>\n",
       "      <td>About This Content Get equipped with the stun...</td>\n",
       "      <td>NaN</td>\n",
       "      <td>Minimum:,OS:,WINDOWS® 7 (64bit),Processor:,Int...</td>\n",
       "      <td>Recommended:,OS:,WINDOWS®10 (64bit),Processor:...</td>\n",
       "      <td>$9.99</td>\n",
       "      <td>NaN</td>\n",
       "    </tr>\n",
       "    <tr>\n",
       "      <td>40832</td>\n",
       "      <td>https://store.steampowered.com/app/908000/Stor...</td>\n",
       "      <td>app</td>\n",
       "      <td>Stories In Stone</td>\n",
       "      <td>An RPG about a tribe exploring an ancient worl...</td>\n",
       "      <td>NaN</td>\n",
       "      <td>NaN</td>\n",
       "      <td>Aug 8, 2018</td>\n",
       "      <td>16 Bit Psych,Kyle B</td>\n",
       "      <td>Self-Publish,Self-Publish</td>\n",
       "      <td>RPG,Adventure</td>\n",
       "      <td>Single-player,Partial Controller Support,Profi...</td>\n",
       "      <td>English</td>\n",
       "      <td>NaN</td>\n",
       "      <td>Adventure,RPG</td>\n",
       "      <td>About This Game  An RPG about a tribe explori...</td>\n",
       "      <td>NaN</td>\n",
       "      <td>NaN</td>\n",
       "      <td>NaN</td>\n",
       "      <td>$4.99</td>\n",
       "      <td>$2.80</td>\n",
       "    </tr>\n",
       "  </tbody>\n",
       "</table>\n",
       "<p>40833 rows × 20 columns</p>\n",
       "</div>"
      ],
      "text/plain": [
       "                                                     url types  \\\n",
       "0        https://store.steampowered.com/app/379720/DOOM/   app   \n",
       "1      https://store.steampowered.com/app/578080/PLAY...   app   \n",
       "2      https://store.steampowered.com/app/637090/BATT...   app   \n",
       "3        https://store.steampowered.com/app/221100/DayZ/   app   \n",
       "4      https://store.steampowered.com/app/8500/EVE_On...   app   \n",
       "...                                                  ...   ...   \n",
       "40828  https://store.steampowered.com/app/899836/Rock...   app   \n",
       "40829  https://store.steampowered.com/app/899832/Rock...   app   \n",
       "40830  https://store.steampowered.com/app/906840/Fant...   app   \n",
       "40831  https://store.steampowered.com/app/906635/Mega...   app   \n",
       "40832  https://store.steampowered.com/app/908000/Stor...   app   \n",
       "\n",
       "                                                    name  \\\n",
       "0                                                   DOOM   \n",
       "1                          PLAYERUNKNOWN'S BATTLEGROUNDS   \n",
       "2                                             BATTLETECH   \n",
       "3                                                   DayZ   \n",
       "4                                             EVE Online   \n",
       "...                                                  ...   \n",
       "40828  Rocksmith® 2014 Edition – Remastered – Sabaton...   \n",
       "40829  Rocksmith® 2014 Edition – Remastered – Stone T...   \n",
       "40830  Fantasy Grounds - Quests of Doom 4: A Midnight...   \n",
       "40831                       Mega Man X5 Sound Collection   \n",
       "40832                                   Stories In Stone   \n",
       "\n",
       "                                            desc_snippet  \\\n",
       "0      Now includes all three premium DLC packs (Unto...   \n",
       "1      PLAYERUNKNOWN'S BATTLEGROUNDS is a battle roya...   \n",
       "2      Take command of your own mercenary outfit of '...   \n",
       "3      The post-soviet country of Chernarus is struck...   \n",
       "4      EVE Online is a community-driven spaceship MMO...   \n",
       "...                                                  ...   \n",
       "40828                                                NaN   \n",
       "40829                                                NaN   \n",
       "40830                                                NaN   \n",
       "40831                                                NaN   \n",
       "40832  An RPG about a tribe exploring an ancient worl...   \n",
       "\n",
       "                                          recent_reviews  \\\n",
       "0      Very Positive,(554),- 89% of the 554 user revi...   \n",
       "1      Mixed,(6,214),- 49% of the 6,214 user reviews ...   \n",
       "2      Mixed,(166),- 54% of the 166 user reviews in t...   \n",
       "3      Mixed,(932),- 57% of the 932 user reviews in t...   \n",
       "4      Mixed,(287),- 54% of the 287 user reviews in t...   \n",
       "...                                                  ...   \n",
       "40828                                                NaN   \n",
       "40829                                                NaN   \n",
       "40830                                                NaN   \n",
       "40831                                                NaN   \n",
       "40832                                                NaN   \n",
       "\n",
       "                                             all_reviews  release_date  \\\n",
       "0      Very Positive,(42,550),- 92% of the 42,550 use...  May 12, 2016   \n",
       "1      Mixed,(836,608),- 49% of the 836,608 user revi...  Dec 21, 2017   \n",
       "2      Mostly Positive,(7,030),- 71% of the 7,030 use...  Apr 24, 2018   \n",
       "3      Mixed,(167,115),- 61% of the 167,115 user revi...  Dec 13, 2018   \n",
       "4      Mostly Positive,(11,481),- 74% of the 11,481 u...   May 6, 2003   \n",
       "...                                                  ...           ...   \n",
       "40828                                                NaN  Feb 12, 2019   \n",
       "40829                                                NaN   Feb 5, 2019   \n",
       "40830                                                NaN  Jul 31, 2018   \n",
       "40831                                                NaN  Jul 24, 2018   \n",
       "40832                                                NaN   Aug 8, 2018   \n",
       "\n",
       "                     developer                                publisher  \\\n",
       "0                  id Software    Bethesda Softworks,Bethesda Softworks   \n",
       "1             PUBG Corporation        PUBG Corporation,PUBG Corporation   \n",
       "2          Harebrained Schemes  Paradox Interactive,Paradox Interactive   \n",
       "3          Bohemia Interactive  Bohemia Interactive,Bohemia Interactive   \n",
       "4                          CCP                                  CCP,CCP   \n",
       "...                        ...                                      ...   \n",
       "40828  Ubisoft - San Francisco                                      NaN   \n",
       "40829  Ubisoft - San Francisco                                      NaN   \n",
       "40830      SmiteWorks USA, LLC                                      NaN   \n",
       "40831          CAPCOM CO., LTD          CAPCOM CO., LTD,CAPCOM CO., LTD   \n",
       "40832      16 Bit Psych,Kyle B                Self-Publish,Self-Publish   \n",
       "\n",
       "                                            popular_tags  \\\n",
       "0      FPS,Gore,Action,Demons,Shooter,First-Person,Gr...   \n",
       "1      Survival,Shooter,Multiplayer,Battle Royale,PvP...   \n",
       "2      Mechs,Strategy,Turn-Based,Turn-Based Tactics,S...   \n",
       "3      Survival,Zombies,Open World,Multiplayer,PvP,Ma...   \n",
       "4      Space,Massively Multiplayer,Sci-fi,Sandbox,MMO...   \n",
       "...                                                  ...   \n",
       "40828                                  Casual,Simulation   \n",
       "40829                                  Casual,Simulation   \n",
       "40830  RPG,Indie,Strategy,Software,Turn-Based,Fantasy...   \n",
       "40831                                             Action   \n",
       "40832                                      RPG,Adventure   \n",
       "\n",
       "                                            game_details  \\\n",
       "0      Single-player,Multi-player,Co-op,Steam Achieve...   \n",
       "1                 Multi-player,Online Multi-Player,Stats   \n",
       "2      Single-player,Multi-player,Online Multi-Player...   \n",
       "3      Multi-player,Online Multi-Player,Steam Worksho...   \n",
       "4      Multi-player,Online Multi-Player,MMO,Co-op,Onl...   \n",
       "...                                                  ...   \n",
       "40828  Single-player,Shared/Split Screen,Downloadable...   \n",
       "40829  Single-player,Shared/Split Screen,Downloadable...   \n",
       "40830  Multi-player,Co-op,Cross-Platform Multiplayer,...   \n",
       "40831  Single-player,Downloadable Content,Steam Achie...   \n",
       "40832  Single-player,Partial Controller Support,Profi...   \n",
       "\n",
       "                                               languages  achievements  \\\n",
       "0      English,French,Italian,German,Spanish - Spain,...          54.0   \n",
       "1      English,Korean,Simplified Chinese,French,Germa...          37.0   \n",
       "2                          English,French,German,Russian         128.0   \n",
       "3      English,French,Italian,German,Spanish - Spain,...           NaN   \n",
       "4                          English,German,Russian,French           NaN   \n",
       "...                                                  ...           ...   \n",
       "40828  English,German,French,Italian,Spanish - Spain,...           NaN   \n",
       "40829  English,German,French,Italian,Spanish - Spain,...           NaN   \n",
       "40830                                            English           NaN   \n",
       "40831  English,French,Italian,German,Spanish - Spain,...           NaN   \n",
       "40832                                            English           NaN   \n",
       "\n",
       "                                                   genre  \\\n",
       "0                                                 Action   \n",
       "1                 Action,Adventure,Massively Multiplayer   \n",
       "2                              Action,Adventure,Strategy   \n",
       "3                 Action,Adventure,Massively Multiplayer   \n",
       "4      Action,Free to Play,Massively Multiplayer,RPG,...   \n",
       "...                                                  ...   \n",
       "40828                                  Casual,Simulation   \n",
       "40829                                  Casual,Simulation   \n",
       "40830                                 Indie,RPG,Strategy   \n",
       "40831                                             Action   \n",
       "40832                                      Adventure,RPG   \n",
       "\n",
       "                                        game_description  \\\n",
       "0       About This Game Developed by id software, the...   \n",
       "1       About This Game  PLAYERUNKNOWN'S BATTLEGROUND...   \n",
       "2       About This Game  From original BATTLETECH/Mec...   \n",
       "3       About This Game The post-soviet country of Ch...   \n",
       "4                                      About This Game     \n",
       "...                                                  ...   \n",
       "40828   About This Content Play \"Ghost Division\" by S...   \n",
       "40829   About This Content Play \"Trippin’ on a Hole i...   \n",
       "40830   About This Content  Quests of Doom 4: A Midni...   \n",
       "40831   About This Content Get equipped with the stun...   \n",
       "40832   About This Game  An RPG about a tribe explori...   \n",
       "\n",
       "                                          mature_content  \\\n",
       "0                                                    NaN   \n",
       "1       Mature Content Description  The developers de...   \n",
       "2                                                    NaN   \n",
       "3                                                    NaN   \n",
       "4                                                    NaN   \n",
       "...                                                  ...   \n",
       "40828                                                NaN   \n",
       "40829                                                NaN   \n",
       "40830                                                NaN   \n",
       "40831                                                NaN   \n",
       "40832                                                NaN   \n",
       "\n",
       "                                    minimum_requirements  \\\n",
       "0      Minimum:,OS:,Windows 7/8.1/10 (64-bit versions...   \n",
       "1      Minimum:,Requires a 64-bit processor and opera...   \n",
       "2      Minimum:,Requires a 64-bit processor and opera...   \n",
       "3      Minimum:,OS:,Windows 7/8.1 64-bit,Processor:,I...   \n",
       "4      Minimum:,OS:,Windows 7,Processor:,Intel Dual C...   \n",
       "...                                                  ...   \n",
       "40828  Minimum:,OS:,Windows Vista, Windows 7, Windows...   \n",
       "40829  Minimum:,OS:,Windows Vista, Windows 7, Windows...   \n",
       "40830  Minimum:,OS:,Windows 7x , 8x or 10x,Processor:...   \n",
       "40831  Minimum:,OS:,WINDOWS® 7 (64bit),Processor:,Int...   \n",
       "40832                                                NaN   \n",
       "\n",
       "                                recommended_requirements original_price  \\\n",
       "0      Recommended:,OS:,Windows 7/8.1/10 (64-bit vers...         $19.99   \n",
       "1      Recommended:,Requires a 64-bit processor and o...         $29.99   \n",
       "2      Recommended:,Requires a 64-bit processor and o...         $39.99   \n",
       "3      Recommended:,OS:,Windows 10 64-bit,Processor:,...         $44.99   \n",
       "4      Recommended:,OS:,Windows 10,Processor:,Intel i...           Free   \n",
       "...                                                  ...            ...   \n",
       "40828  Recommended:,OS:,Windows Vista, Windows 7, Win...          $2.99   \n",
       "40829  Recommended:,OS:,Windows Vista, Windows 7, Win...          $2.99   \n",
       "40830  Recommended:,OS:,Windows 7x , 8x or 10x,Proces...          $7.99   \n",
       "40831  Recommended:,OS:,WINDOWS®10 (64bit),Processor:...          $9.99   \n",
       "40832                                                NaN          $4.99   \n",
       "\n",
       "      discount_price  \n",
       "0             $14.99  \n",
       "1                NaN  \n",
       "2                NaN  \n",
       "3                NaN  \n",
       "4                NaN  \n",
       "...              ...  \n",
       "40828            NaN  \n",
       "40829            NaN  \n",
       "40830            NaN  \n",
       "40831            NaN  \n",
       "40832          $2.80  \n",
       "\n",
       "[40833 rows x 20 columns]"
      ]
     },
     "execution_count": 3,
     "metadata": {},
     "output_type": "execute_result"
    }
   ],
   "source": [
    "steam"
   ]
  },
  {
   "cell_type": "code",
   "execution_count": 4,
   "metadata": {},
   "outputs": [],
   "source": [
    "#Menghapus Nan pada dataset\n",
    "##Mencari apakah ada null pada datasets##"
   ]
  },
  {
   "cell_type": "code",
   "execution_count": 5,
   "metadata": {},
   "outputs": [
    {
     "data": {
      "text/plain": [
       "True"
      ]
     },
     "execution_count": 5,
     "metadata": {},
     "output_type": "execute_result"
    }
   ],
   "source": [
    "steam.isnull().values.any()"
   ]
  },
  {
   "cell_type": "code",
   "execution_count": 6,
   "metadata": {},
   "outputs": [
    {
     "data": {
      "text/plain": [
       "url                         False\n",
       "types                        True\n",
       "name                         True\n",
       "desc_snippet                 True\n",
       "recent_reviews               True\n",
       "all_reviews                  True\n",
       "release_date                 True\n",
       "developer                    True\n",
       "publisher                    True\n",
       "popular_tags                 True\n",
       "game_details                 True\n",
       "languages                    True\n",
       "achievements                 True\n",
       "genre                        True\n",
       "game_description             True\n",
       "mature_content               True\n",
       "minimum_requirements         True\n",
       "recommended_requirements     True\n",
       "original_price               True\n",
       "discount_price               True\n",
       "dtype: bool"
      ]
     },
     "execution_count": 6,
     "metadata": {},
     "output_type": "execute_result"
    }
   ],
   "source": [
    "#Mencari null pada setiap kolom pada data set\n",
    "steam.isnull().any()"
   ]
  },
  {
   "cell_type": "code",
   "execution_count": 7,
   "metadata": {},
   "outputs": [
    {
     "name": "stdout",
     "output_type": "stream",
     "text": [
      "NULL :\n"
     ]
    },
    {
     "data": {
      "text/plain": [
       "url                             0\n",
       "types                           2\n",
       "name                           16\n",
       "desc_snippet                13221\n",
       "recent_reviews              38127\n",
       "all_reviews                 12363\n",
       "release_date                 3179\n",
       "developer                     343\n",
       "publisher                    5100\n",
       "popular_tags                 2945\n",
       "game_details                  520\n",
       "languages                      36\n",
       "achievements                28639\n",
       "genre                         438\n",
       "game_description             2913\n",
       "mature_content              37936\n",
       "minimum_requirements        19764\n",
       "recommended_requirements    19758\n",
       "original_price               5311\n",
       "discount_price              26290\n",
       "dtype: int64"
      ]
     },
     "execution_count": 7,
     "metadata": {},
     "output_type": "execute_result"
    }
   ],
   "source": [
    "#menghitung jumlah null\n",
    "print(\"NULL :\")\n",
    "steam.isnull().sum()"
   ]
  },
  {
   "cell_type": "code",
   "execution_count": 8,
   "metadata": {},
   "outputs": [],
   "source": [
    "# Menghilangkan NaN\n",
    "steam.dropna(subset=[\"original_price\"], inplace=True)\n",
    "steam[\"desc_snippet\"] = steam[\"desc_snippet\"].fillna(\"No Description Snippet\")\n",
    "steam[\"recent_reviews\"] = steam[\"recent_reviews\"].fillna(0)\n",
    "steam[\"types\"] = steam[\"types\"].fillna(\"no\")\n",
    "steam[\"release_date\"] = steam[\"release_date\"].fillna(0)\n",
    "steam[\"developer\"] = steam[\"developer\"].fillna(\"no developers\")\n",
    "steam[\"publisher\"] = steam[\"publisher\"].fillna(\"no publisher\")\n",
    "steam[\"popular_tags\"] = steam[\"popular_tags\"].fillna(0)\n",
    "steam[\"game_details\"] = steam[\"game_details\"].fillna(\"no\")\n",
    "steam[\"languages\"] = steam[\"languages\"].fillna(\"no languages\")\n",
    "steam[\"achievements\"] = steam[\"achievements\"].fillna(0)\n",
    "steam[\"genre\"] = steam[\"genre\"].fillna(\"no genre\")\n",
    "steam[\"game_description\"] = steam[\"game_description\"].fillna(\"no game description\")\n",
    "steam[\"mature_content\"] = steam[\"mature_content\"].fillna(\"no mature content\")\n",
    "steam[\"minimum_requirements\"] = steam[\"minimum_requirements\"].fillna(\"no minimum requirements\")\n",
    "steam[\"recommended_requirements\"] = steam[\"recommended_requirements\"].fillna(\"no recommended requirements\")\n",
    "steam.dropna(subset=[\"all_reviews\"], inplace=True)\n",
    "steam[\"discount_price\"] = steam[\"discount_price\"].fillna(0)\n"
   ]
  },
  {
   "cell_type": "code",
   "execution_count": 9,
   "metadata": {},
   "outputs": [
    {
     "name": "stdout",
     "output_type": "stream",
     "text": [
      "NULL :\n"
     ]
    },
    {
     "data": {
      "text/plain": [
       "url                         0\n",
       "types                       0\n",
       "name                        0\n",
       "desc_snippet                0\n",
       "recent_reviews              0\n",
       "all_reviews                 0\n",
       "release_date                0\n",
       "developer                   0\n",
       "publisher                   0\n",
       "popular_tags                0\n",
       "game_details                0\n",
       "languages                   0\n",
       "achievements                0\n",
       "genre                       0\n",
       "game_description            0\n",
       "mature_content              0\n",
       "minimum_requirements        0\n",
       "recommended_requirements    0\n",
       "original_price              0\n",
       "discount_price              0\n",
       "dtype: int64"
      ]
     },
     "execution_count": 9,
     "metadata": {},
     "output_type": "execute_result"
    }
   ],
   "source": [
    "print(\"NULL :\")\n",
    "steam.isnull().sum()"
   ]
  },
  {
   "cell_type": "code",
   "execution_count": 10,
   "metadata": {},
   "outputs": [],
   "source": [
    "#Preprocessing Lower Casing\n",
    "steam = steam.applymap(lambda s:s.lower() if type(s) == str else s)"
   ]
  },
  {
   "cell_type": "code",
   "execution_count": 11,
   "metadata": {},
   "outputs": [],
   "source": [
    "#Dikarenakan terdapat harga yang berbentuk string maka kata dalam string tsb akan dirubah menjadi angka agar dapat diubah \n",
    "#menjadi float\n",
    "colstocheck = steam[\"original_price\"]\n",
    "steam[\"original_price\"]=steam[\"original_price\"].replace({'\\$':''},regex = True)\n",
    "steam[\"original_price\"]=steam[\"original_price\"].replace({\"o\":0},regex = True)\n",
    "steam[\"original_price\"]=steam[\"original_price\"].replace({\"e\":0},regex = True)\n",
    "steam[\"original_price\"]=steam[\"original_price\"].replace({\"免\":0},regex = True)\n",
    "steam[\"original_price\"]=steam[\"original_price\"].replace({\"试\":0},regex = True)\n",
    "steam[\"original_price\"]=steam[\"original_price\"].replace({\"a\":0},regex = True)\n",
    "steam[\"original_price\"]=steam[\"original_price\"].replace({\"i\":0},regex = True)\n",
    "steam[\"original_price\"]=steam[\"original_price\"].replace({\"u\":0},regex = True)\n",
    "steam[\"original_price\"]=steam[\"original_price\"].replace({\"-\":0},regex = True)\n",
    "\n",
    "steam[\"all_reviews\"]=steam[\"all_reviews\"].replace({\"need\":0},regex = True)"
   ]
  },
  {
   "cell_type": "code",
   "execution_count": 12,
   "metadata": {},
   "outputs": [],
   "source": [
    "##MENGUBAH KOLOM HARGA MENJADI FLOAT\n",
    "steam[\"orginial_price\"] = pd.to_numeric(steam[\"original_price\"], downcast=\"float\")\n"
   ]
  },
  {
   "cell_type": "code",
   "execution_count": 13,
   "metadata": {},
   "outputs": [
    {
     "data": {
      "text/plain": [
       "1      mixed,(836,608),- 49% of the 836,608 user revi...\n",
       "2      mostly positive,(7,030),- 71% of the 7,030 use...\n",
       "3      mixed,(167,115),- 61% of the 167,115 user revi...\n",
       "4      mostly positive,(11,481),- 74% of the 11,481 u...\n",
       "6      very positive,(9,645),- 92% of the 9,645 user ...\n",
       "                             ...                        \n",
       "233    very positive,(14,567),- 89% of the 14,567 use...\n",
       "234    mostly positive,(24,131),- 77% of the 24,131 u...\n",
       "235    overwhelmingly positive,(63,149),- 97% of the ...\n",
       "236    mixed,(4,174),- 57% of the 4,174 user reviews ...\n",
       "238    very positive,(13,207),- 87% of the 13,207 use...\n",
       "Name: all_reviews, Length: 199, dtype: object"
      ]
     },
     "execution_count": 13,
     "metadata": {},
     "output_type": "execute_result"
    }
   ],
   "source": [
    "#Preprocessing all_reviews mengambil angka persenan saja\n",
    "\n",
    "steam[\"all_reviews\"][1:200]"
   ]
  },
  {
   "cell_type": "code",
   "execution_count": 14,
   "metadata": {},
   "outputs": [],
   "source": [
    "steam[\"recent_reviews\"]=steam[\"recent_reviews\"].str.split(\"-\",n=2,expand=True,)"
   ]
  },
  {
   "cell_type": "code",
   "execution_count": 15,
   "metadata": {},
   "outputs": [
    {
     "data": {
      "text/html": [
       "<div>\n",
       "<style scoped>\n",
       "    .dataframe tbody tr th:only-of-type {\n",
       "        vertical-align: middle;\n",
       "    }\n",
       "\n",
       "    .dataframe tbody tr th {\n",
       "        vertical-align: top;\n",
       "    }\n",
       "\n",
       "    .dataframe thead th {\n",
       "        text-align: right;\n",
       "    }\n",
       "</style>\n",
       "<table border=\"1\" class=\"dataframe\">\n",
       "  <thead>\n",
       "    <tr style=\"text-align: right;\">\n",
       "      <th></th>\n",
       "      <th>0</th>\n",
       "      <th>1</th>\n",
       "    </tr>\n",
       "  </thead>\n",
       "  <tbody>\n",
       "    <tr>\n",
       "      <td>0</td>\n",
       "      <td>very positive,(42,550),- 92</td>\n",
       "      <td>of the 42,550 user reviews for this game are ...</td>\n",
       "    </tr>\n",
       "    <tr>\n",
       "      <td>1</td>\n",
       "      <td>mixed,(836,608),- 49</td>\n",
       "      <td>of the 836,608 user reviews for this game are...</td>\n",
       "    </tr>\n",
       "    <tr>\n",
       "      <td>2</td>\n",
       "      <td>mostly positive,(7,030),- 71</td>\n",
       "      <td>of the 7,030 user reviews for this game are p...</td>\n",
       "    </tr>\n",
       "    <tr>\n",
       "      <td>3</td>\n",
       "      <td>mixed,(167,115),- 61</td>\n",
       "      <td>of the 167,115 user reviews for this game are...</td>\n",
       "    </tr>\n",
       "    <tr>\n",
       "      <td>4</td>\n",
       "      <td>mostly positive,(11,481),- 74</td>\n",
       "      <td>of the 11,481 user reviews for this game are ...</td>\n",
       "    </tr>\n",
       "    <tr>\n",
       "      <td>...</td>\n",
       "      <td>...</td>\n",
       "      <td>...</td>\n",
       "    </tr>\n",
       "    <tr>\n",
       "      <td>40611</td>\n",
       "      <td>positive,(11),- 90</td>\n",
       "      <td>of the 11 user reviews for this game are posi...</td>\n",
       "    </tr>\n",
       "    <tr>\n",
       "      <td>40708</td>\n",
       "      <td>NaN</td>\n",
       "      <td>NaN</td>\n",
       "    </tr>\n",
       "    <tr>\n",
       "      <td>40728</td>\n",
       "      <td>mostly positive,(10),- 70</td>\n",
       "      <td>of the 10 user reviews for this game are posi...</td>\n",
       "    </tr>\n",
       "    <tr>\n",
       "      <td>40799</td>\n",
       "      <td>NaN</td>\n",
       "      <td>NaN</td>\n",
       "    </tr>\n",
       "    <tr>\n",
       "      <td>40811</td>\n",
       "      <td>mostly negative,(14),- 28</td>\n",
       "      <td>of the 14 user reviews for this game are posi...</td>\n",
       "    </tr>\n",
       "  </tbody>\n",
       "</table>\n",
       "<p>27807 rows × 2 columns</p>\n",
       "</div>"
      ],
      "text/plain": [
       "                                   0  \\\n",
       "0        very positive,(42,550),- 92   \n",
       "1               mixed,(836,608),- 49   \n",
       "2       mostly positive,(7,030),- 71   \n",
       "3               mixed,(167,115),- 61   \n",
       "4      mostly positive,(11,481),- 74   \n",
       "...                              ...   \n",
       "40611             positive,(11),- 90   \n",
       "40708                            NaN   \n",
       "40728      mostly positive,(10),- 70   \n",
       "40799                            NaN   \n",
       "40811      mostly negative,(14),- 28   \n",
       "\n",
       "                                                       1  \n",
       "0       of the 42,550 user reviews for this game are ...  \n",
       "1       of the 836,608 user reviews for this game are...  \n",
       "2       of the 7,030 user reviews for this game are p...  \n",
       "3       of the 167,115 user reviews for this game are...  \n",
       "4       of the 11,481 user reviews for this game are ...  \n",
       "...                                                  ...  \n",
       "40611   of the 11 user reviews for this game are posi...  \n",
       "40708                                                NaN  \n",
       "40728   of the 10 user reviews for this game are posi...  \n",
       "40799                                                NaN  \n",
       "40811   of the 14 user reviews for this game are posi...  \n",
       "\n",
       "[27807 rows x 2 columns]"
      ]
     },
     "execution_count": 15,
     "metadata": {},
     "output_type": "execute_result"
    }
   ],
   "source": [
    "steam[\"all_reviews\"].str.split('%',1,expand=True,)"
   ]
  },
  {
   "cell_type": "code",
   "execution_count": 16,
   "metadata": {},
   "outputs": [],
   "source": [
    "#Preprocessing kolom all_reviews\n",
    "steam['all_reviews']=steam[\"all_reviews\"].str.split('-',1,expand=True,)[1]\n",
    "steam['all_reviews']=steam[\"all_reviews\"].str.split('%',1,expand=True,)\n",
    "steam['all_reviews']=steam[\"all_reviews\"].str.split('%',n=1,expand=True,)\n"
   ]
  },
  {
   "cell_type": "code",
   "execution_count": 17,
   "metadata": {},
   "outputs": [
    {
     "name": "stdout",
     "output_type": "stream",
     "text": [
      "Tabel \n"
     ]
    },
    {
     "data": {
      "text/html": [
       "<div>\n",
       "<style scoped>\n",
       "    .dataframe tbody tr th:only-of-type {\n",
       "        vertical-align: middle;\n",
       "    }\n",
       "\n",
       "    .dataframe tbody tr th {\n",
       "        vertical-align: top;\n",
       "    }\n",
       "\n",
       "    .dataframe thead th {\n",
       "        text-align: right;\n",
       "    }\n",
       "</style>\n",
       "<table border=\"1\" class=\"dataframe\">\n",
       "  <thead>\n",
       "    <tr style=\"text-align: right;\">\n",
       "      <th></th>\n",
       "      <th>all_reviews</th>\n",
       "      <th>original_price</th>\n",
       "    </tr>\n",
       "  </thead>\n",
       "  <tbody>\n",
       "    <tr>\n",
       "      <td>0</td>\n",
       "      <td>92</td>\n",
       "      <td>19.99</td>\n",
       "    </tr>\n",
       "    <tr>\n",
       "      <td>1</td>\n",
       "      <td>49</td>\n",
       "      <td>29.99</td>\n",
       "    </tr>\n",
       "    <tr>\n",
       "      <td>2</td>\n",
       "      <td>71</td>\n",
       "      <td>39.99</td>\n",
       "    </tr>\n",
       "    <tr>\n",
       "      <td>3</td>\n",
       "      <td>61</td>\n",
       "      <td>44.99</td>\n",
       "    </tr>\n",
       "    <tr>\n",
       "      <td>4</td>\n",
       "      <td>74</td>\n",
       "      <td>0</td>\n",
       "    </tr>\n",
       "    <tr>\n",
       "      <td>...</td>\n",
       "      <td>...</td>\n",
       "      <td>...</td>\n",
       "    </tr>\n",
       "    <tr>\n",
       "      <td>40611</td>\n",
       "      <td>90</td>\n",
       "      <td>7.99</td>\n",
       "    </tr>\n",
       "    <tr>\n",
       "      <td>40708</td>\n",
       "      <td>NaN</td>\n",
       "      <td>4.99</td>\n",
       "    </tr>\n",
       "    <tr>\n",
       "      <td>40728</td>\n",
       "      <td>70</td>\n",
       "      <td>9.99</td>\n",
       "    </tr>\n",
       "    <tr>\n",
       "      <td>40799</td>\n",
       "      <td>NaN</td>\n",
       "      <td>3.99</td>\n",
       "    </tr>\n",
       "    <tr>\n",
       "      <td>40811</td>\n",
       "      <td>28</td>\n",
       "      <td>6.99</td>\n",
       "    </tr>\n",
       "  </tbody>\n",
       "</table>\n",
       "<p>27807 rows × 2 columns</p>\n",
       "</div>"
      ],
      "text/plain": [
       "      all_reviews original_price\n",
       "0              92          19.99\n",
       "1              49          29.99\n",
       "2              71          39.99\n",
       "3              61          44.99\n",
       "4              74              0\n",
       "...           ...            ...\n",
       "40611          90           7.99\n",
       "40708         NaN           4.99\n",
       "40728          70           9.99\n",
       "40799         NaN           3.99\n",
       "40811          28           6.99\n",
       "\n",
       "[27807 rows x 2 columns]"
      ]
     },
     "execution_count": 17,
     "metadata": {},
     "output_type": "execute_result"
    }
   ],
   "source": [
    "print(\"Tabel \")\n",
    "steam[[\"all_reviews\",\"original_price\"]]"
   ]
  },
  {
   "cell_type": "code",
   "execution_count": 18,
   "metadata": {
    "scrolled": true
   },
   "outputs": [],
   "source": [
    "steam.dropna(subset=[\"all_reviews\"], inplace=True)\n",
    "steam.dropna(subset=[\"original_price\"], inplace=True)\n",
    "steam[\"all_reviews\"] = pd.to_numeric(steam[\"all_reviews\"], downcast=\"float\")\n",
    "steam[\"original_price\"] = pd.to_numeric(steam[\"original_price\"], downcast=\"float\")"
   ]
  },
  {
   "cell_type": "code",
   "execution_count": 19,
   "metadata": {},
   "outputs": [
    {
     "name": "stdout",
     "output_type": "stream",
     "text": [
      "all_reviews :\n"
     ]
    },
    {
     "data": {
      "text/plain": [
       "0         92.0\n",
       "1         49.0\n",
       "2         71.0\n",
       "3         61.0\n",
       "4         74.0\n",
       "         ...  \n",
       "40557    100.0\n",
       "40598     78.0\n",
       "40611     90.0\n",
       "40728     70.0\n",
       "40811     28.0\n",
       "Name: all_reviews, Length: 16989, dtype: float32"
      ]
     },
     "execution_count": 19,
     "metadata": {},
     "output_type": "execute_result"
    }
   ],
   "source": [
    "print(\"all_reviews :\")\n",
    "steam['all_reviews']"
   ]
  },
  {
   "cell_type": "code",
   "execution_count": 20,
   "metadata": {
    "scrolled": true
   },
   "outputs": [
    {
     "data": {
      "text/html": [
       "<div>\n",
       "<style scoped>\n",
       "    .dataframe tbody tr th:only-of-type {\n",
       "        vertical-align: middle;\n",
       "    }\n",
       "\n",
       "    .dataframe tbody tr th {\n",
       "        vertical-align: top;\n",
       "    }\n",
       "\n",
       "    .dataframe thead th {\n",
       "        text-align: right;\n",
       "    }\n",
       "</style>\n",
       "<table border=\"1\" class=\"dataframe\">\n",
       "  <thead>\n",
       "    <tr style=\"text-align: right;\">\n",
       "      <th></th>\n",
       "      <th>name</th>\n",
       "      <th>all_reviews</th>\n",
       "      <th>original_price</th>\n",
       "    </tr>\n",
       "  </thead>\n",
       "  <tbody>\n",
       "    <tr>\n",
       "      <td>0</td>\n",
       "      <td>doom</td>\n",
       "      <td>92.0</td>\n",
       "      <td>19.990000</td>\n",
       "    </tr>\n",
       "    <tr>\n",
       "      <td>1</td>\n",
       "      <td>playerunknown's battlegrounds</td>\n",
       "      <td>49.0</td>\n",
       "      <td>29.990000</td>\n",
       "    </tr>\n",
       "    <tr>\n",
       "      <td>2</td>\n",
       "      <td>battletech</td>\n",
       "      <td>71.0</td>\n",
       "      <td>39.990002</td>\n",
       "    </tr>\n",
       "    <tr>\n",
       "      <td>3</td>\n",
       "      <td>dayz</td>\n",
       "      <td>61.0</td>\n",
       "      <td>44.990002</td>\n",
       "    </tr>\n",
       "    <tr>\n",
       "      <td>4</td>\n",
       "      <td>eve online</td>\n",
       "      <td>74.0</td>\n",
       "      <td>0.000000</td>\n",
       "    </tr>\n",
       "    <tr>\n",
       "      <td>...</td>\n",
       "      <td>...</td>\n",
       "      <td>...</td>\n",
       "      <td>...</td>\n",
       "    </tr>\n",
       "    <tr>\n",
       "      <td>40557</td>\n",
       "      <td>grabity</td>\n",
       "      <td>100.0</td>\n",
       "      <td>0.000000</td>\n",
       "    </tr>\n",
       "    <tr>\n",
       "      <td>40598</td>\n",
       "      <td>detached: non-vr edition</td>\n",
       "      <td>78.0</td>\n",
       "      <td>14.990000</td>\n",
       "    </tr>\n",
       "    <tr>\n",
       "      <td>40611</td>\n",
       "      <td>a room beyond</td>\n",
       "      <td>90.0</td>\n",
       "      <td>7.990000</td>\n",
       "    </tr>\n",
       "    <tr>\n",
       "      <td>40728</td>\n",
       "      <td>chasing the stars</td>\n",
       "      <td>70.0</td>\n",
       "      <td>9.990000</td>\n",
       "    </tr>\n",
       "    <tr>\n",
       "      <td>40811</td>\n",
       "      <td>nanoui</td>\n",
       "      <td>28.0</td>\n",
       "      <td>6.990000</td>\n",
       "    </tr>\n",
       "  </tbody>\n",
       "</table>\n",
       "<p>16989 rows × 3 columns</p>\n",
       "</div>"
      ],
      "text/plain": [
       "                                name  all_reviews  original_price\n",
       "0                               doom         92.0       19.990000\n",
       "1      playerunknown's battlegrounds         49.0       29.990000\n",
       "2                         battletech         71.0       39.990002\n",
       "3                               dayz         61.0       44.990002\n",
       "4                         eve online         74.0        0.000000\n",
       "...                              ...          ...             ...\n",
       "40557                        grabity        100.0        0.000000\n",
       "40598       detached: non-vr edition         78.0       14.990000\n",
       "40611                  a room beyond         90.0        7.990000\n",
       "40728              chasing the stars         70.0        9.990000\n",
       "40811                         nanoui         28.0        6.990000\n",
       "\n",
       "[16989 rows x 3 columns]"
      ]
     },
     "execution_count": 20,
     "metadata": {},
     "output_type": "execute_result"
    }
   ],
   "source": [
    "clustering=steam[[\"name\",\"all_reviews\",\"original_price\"]]\n",
    "clustering\n"
   ]
  },
  {
   "cell_type": "code",
   "execution_count": 21,
   "metadata": {},
   "outputs": [
    {
     "data": {
      "image/png": "[encoded data removed]",
      "text/plain": [
       "<Figure size 432x288 with 1 Axes>"
      ]
     },
     "metadata": {
      "needs_background": "light"
     },
     "output_type": "display_data"
    }
   ],
   "source": [
    "import pandas as pd\n",
    "import matplotlib.pyplot as plt\n",
    "df = pd.DataFrame(clustering,columns=['all_reviews','original_price'])\n",
    "df.plot(x ='all_reviews', y='original_price', kind = 'scatter')\n",
    "plt.show()"
   ]
  },
  {
   "cell_type": "code",
   "execution_count": 22,
   "metadata": {},
   "outputs": [
    {
     "data": {
      "text/html": [
       "<div>\n",
       "<style scoped>\n",
       "    .dataframe tbody tr th:only-of-type {\n",
       "        vertical-align: middle;\n",
       "    }\n",
       "\n",
       "    .dataframe tbody tr th {\n",
       "        vertical-align: top;\n",
       "    }\n",
       "\n",
       "    .dataframe thead th {\n",
       "        text-align: right;\n",
       "    }\n",
       "</style>\n",
       "<table border=\"1\" class=\"dataframe\">\n",
       "  <thead>\n",
       "    <tr style=\"text-align: right;\">\n",
       "      <th></th>\n",
       "      <th>name</th>\n",
       "      <th>all_reviews</th>\n",
       "      <th>original_price</th>\n",
       "    </tr>\n",
       "  </thead>\n",
       "  <tbody>\n",
       "    <tr>\n",
       "      <td>18639</td>\n",
       "      <td>slime-san: superslime edition</td>\n",
       "      <td>92.0</td>\n",
       "      <td>650560.0</td>\n",
       "    </tr>\n",
       "  </tbody>\n",
       "</table>\n",
       "</div>"
      ],
      "text/plain": [
       "                                name  all_reviews  original_price\n",
       "18639  slime-san: superslime edition         92.0        650560.0"
      ]
     },
     "execution_count": 22,
     "metadata": {},
     "output_type": "execute_result"
    }
   ],
   "source": [
    "clustering.loc[(clustering['original_price'] >= 1000)]"
   ]
  },
  {
   "cell_type": "code",
   "execution_count": 23,
   "metadata": {},
   "outputs": [],
   "source": [
    "clustering = clustering.drop(labels=[18639], axis=0)\n",
    "df=clustering[[\"all_reviews\",\"original_price\"]]"
   ]
  },
  {
   "cell_type": "code",
   "execution_count": 24,
   "metadata": {},
   "outputs": [
    {
     "data": {
      "image/png": "[encoded data removed]",
      "text/plain": [
       "<Figure size 432x288 with 1 Axes>"
      ]
     },
     "metadata": {
      "needs_background": "light"
     },
     "output_type": "display_data"
    }
   ],
   "source": [
    "import pandas as pd\n",
    "import matplotlib.pyplot as plt\n",
    "df = pd.DataFrame(clustering,columns=['all_reviews','original_price'])\n",
    "df.plot(x ='all_reviews', y='original_price', kind = 'scatter')\n",
    "plt.show()"
   ]
  },
  {
   "cell_type": "code",
   "execution_count": 25,
   "metadata": {},
   "outputs": [
    {
     "data": {
      "text/html": [
       "<div>\n",
       "<style scoped>\n",
       "    .dataframe tbody tr th:only-of-type {\n",
       "        vertical-align: middle;\n",
       "    }\n",
       "\n",
       "    .dataframe tbody tr th {\n",
       "        vertical-align: top;\n",
       "    }\n",
       "\n",
       "    .dataframe thead th {\n",
       "        text-align: right;\n",
       "    }\n",
       "</style>\n",
       "<table border=\"1\" class=\"dataframe\">\n",
       "  <thead>\n",
       "    <tr style=\"text-align: right;\">\n",
       "      <th></th>\n",
       "      <th>0</th>\n",
       "      <th>1</th>\n",
       "    </tr>\n",
       "  </thead>\n",
       "  <tbody>\n",
       "    <tr>\n",
       "      <td>count</td>\n",
       "      <td>1.698800e+04</td>\n",
       "      <td>1.698800e+04</td>\n",
       "    </tr>\n",
       "    <tr>\n",
       "      <td>mean</td>\n",
       "      <td>1.309420e-15</td>\n",
       "      <td>3.413586e-16</td>\n",
       "    </tr>\n",
       "    <tr>\n",
       "      <td>std</td>\n",
       "      <td>1.000029e+00</td>\n",
       "      <td>1.000029e+00</td>\n",
       "    </tr>\n",
       "    <tr>\n",
       "      <td>min</td>\n",
       "      <td>-4.031142e+00</td>\n",
       "      <td>-3.318565e-01</td>\n",
       "    </tr>\n",
       "    <tr>\n",
       "      <td>25%</td>\n",
       "      <td>-5.784406e-01</td>\n",
       "      <td>-2.662825e-01</td>\n",
       "    </tr>\n",
       "    <tr>\n",
       "      <td>50%</td>\n",
       "      <td>2.307862e-01</td>\n",
       "      <td>-1.785580e-01</td>\n",
       "    </tr>\n",
       "    <tr>\n",
       "      <td>75%</td>\n",
       "      <td>7.702707e-01</td>\n",
       "      <td>-3.108999e-03</td>\n",
       "    </tr>\n",
       "    <tr>\n",
       "      <td>max</td>\n",
       "      <td>1.363704e+00</td>\n",
       "      <td>1.336939e+01</td>\n",
       "    </tr>\n",
       "  </tbody>\n",
       "</table>\n",
       "</div>"
      ],
      "text/plain": [
       "                  0             1\n",
       "count  1.698800e+04  1.698800e+04\n",
       "mean   1.309420e-15  3.413586e-16\n",
       "std    1.000029e+00  1.000029e+00\n",
       "min   -4.031142e+00 -3.318565e-01\n",
       "25%   -5.784406e-01 -2.662825e-01\n",
       "50%    2.307862e-01 -1.785580e-01\n",
       "75%    7.702707e-01 -3.108999e-03\n",
       "max    1.363704e+00  1.336939e+01"
      ]
     },
     "execution_count": 25,
     "metadata": {},
     "output_type": "execute_result"
    }
   ],
   "source": [
    "from sklearn.preprocessing import StandardScaler\n",
    "scaler = StandardScaler()\n",
    "data_scaled = scaler.fit_transform(clustering[[\"all_reviews\",\"original_price\"]])\n",
    "\n",
    "# statistics of scaled data\n",
    "pd.DataFrame(data_scaled).describe()"
   ]
  },
  {
   "cell_type": "code",
   "execution_count": 26,
   "metadata": {},
   "outputs": [
    {
     "data": {
      "text/plain": [
       "KMeans(algorithm='auto', copy_x=True, init='k-means++', max_iter=300,\n",
       "       n_clusters=3, n_init=10, n_jobs=None, precompute_distances='auto',\n",
       "       random_state=None, tol=0.0001, verbose=0)"
      ]
     },
     "execution_count": 26,
     "metadata": {},
     "output_type": "execute_result"
    }
   ],
   "source": [
    "from sklearn.cluster import KMeans\n",
    "# defining the kmeans function with initialization as k-means++\n",
    "kmeans = KMeans(n_clusters=3, init='k-means++')\n",
    "\n",
    "# fitting the k means algorithm on scaled data\n",
    "kmeans.fit(data_scaled)"
   ]
  },
  {
   "cell_type": "code",
   "execution_count": 27,
   "metadata": {},
   "outputs": [
    {
     "data": {
      "text/plain": [
       "8678.42071087561"
      ]
     },
     "execution_count": 27,
     "metadata": {},
     "output_type": "execute_result"
    }
   ],
   "source": [
    "# inertia on the fitted data\n",
    "kmeans.inertia_"
   ]
  },
  {
   "cell_type": "code",
   "execution_count": 28,
   "metadata": {},
   "outputs": [
    {
     "data": {
      "text/plain": [
       "Text(0, 0.5, 'Inertia')"
      ]
     },
     "execution_count": 28,
     "metadata": {},
     "output_type": "execute_result"
    },
    {
     "data": {
      "image/png": "[encoded data removed]",
      "text/plain": [
       "<Figure size 864x432 with 1 Axes>"
      ]
     },
     "metadata": {
      "needs_background": "light"
     },
     "output_type": "display_data"
    }
   ],
   "source": [
    "SSE = []\n",
    "for cluster in range(1,20):\n",
    "    kmeans = KMeans(n_jobs = -1, n_clusters = cluster, init='k-means++')\n",
    "    kmeans.fit(data_scaled)\n",
    "    SSE.append(kmeans.inertia_)\n",
    "\n",
    "# converting the results into a dataframe and plotting them\n",
    "frame = pd.DataFrame({'Cluster':range(1,20), 'SSE':SSE})\n",
    "plt.figure(figsize=(12,6))\n",
    "plt.plot(frame['Cluster'], frame['SSE'], marker='o')\n",
    "plt.xlabel('Number of clusters')\n",
    "plt.ylabel('Inertia')"
   ]
  },
  {
   "cell_type": "code",
   "execution_count": 29,
   "metadata": {},
   "outputs": [],
   "source": [
    "# k means using 5 clusters and k-means++ initialization\n",
    "kmeans = KMeans(n_jobs = -1, n_clusters = 3, init='k-means++')\n",
    "kmeans.fit(data_scaled)\n",
    "pred = kmeans.predict(data_scaled)"
   ]
  },
  {
   "cell_type": "code",
   "execution_count": 30,
   "metadata": {},
   "outputs": [
    {
     "data": {
      "text/plain": [
       "0    11649\n",
       "1     5201\n",
       "2      138\n",
       "Name: cluster, dtype: int64"
      ]
     },
     "execution_count": 30,
     "metadata": {},
     "output_type": "execute_result"
    }
   ],
   "source": [
    "frame = pd.DataFrame(data_scaled)\n",
    "frame['cluster'] = pred\n",
    "frame['cluster'].value_counts()"
   ]
  },
  {
   "cell_type": "code",
   "execution_count": 31,
   "metadata": {},
   "outputs": [
    {
     "name": "stdout",
     "output_type": "stream",
     "text": [
      "***Pembagian Clustering***\n",
      "Cluster 1 = [Harga(0 < 50 && Review(0 < 70)]// [Harga(50 < 100) && Review (0 < 70)]\n",
      "// [Harga > 100 && Review(70 < 80) ] = Tidak Worth It\n",
      "\n",
      "Cluster 2 = [Harga (0 - 50) && Review(60 < 80)] // [Harga(50 < 100) && Review (70 < 90)] // [Harga(100 > ---) \n",
      "&& Review (80 < 100)] = Cukup Worth It\n",
      "\n",
      "Cluster 3 = [Harga (0 - 50) && Review(80 < 10)] & [Harga(50 < 100) && Review (90 < 100)] = Sangat Worth It\n"
     ]
    }
   ],
   "source": [
    "judul=\"\"\"***Pembagian Clustering***\n",
    "cluster 1 = [Harga(0 < 50 && review(0 < 70)]// [harga(50 < 100) && review (0 < 70)]\n",
    "// [harga > 100 && review(70 < 80) ] = tidak worth it\n",
    "\n",
    "cluster 2 = [harga (0 - 50) && review(60 < 80)] // [harga(50 < 100) && review (70 < 90)] // [harga(100 > ---) \n",
    "&& review (80 < 100)] = Cukup Worth It\n",
    "\n",
    "cluster 3 = [harga (0 - 50) && review(80 < 10)] & [harga(50 < 100) && review (90 < 100)] = Sangat Worth It\"\"\"###\n",
    "print(judul.title())"
   ]
  },
  {
   "cell_type": "code",
   "execution_count": 32,
   "metadata": {},
   "outputs": [],
   "source": [
    "from tkinter import *\n",
    "root=Tk()\n",
    "l1=Label(root,text=\"hello world\",fg=\"red\").pack()"
   ]
  },
  {
   "cell_type": "code",
   "execution_count": 33,
   "metadata": {},
   "outputs": [
    {
     "data": {
      "image/png": "[encoded data removed]",
      "text/plain": [
       "<Figure size 432x288 with 1 Axes>"
      ]
     },
     "metadata": {
      "needs_background": "light"
     },
     "output_type": "display_data"
    }
   ],
   "source": [
    "K=3\n",
    "\n",
    "# Select random observation as centroids\n",
    "Centroids = (clustering.sample(n=K))\n",
    "plt.scatter(clustering[\"all_reviews\"],clustering[\"original_price\"],c='black')\n",
    "plt.scatter(Centroids[\"all_reviews\"],Centroids[\"original_price\"],c='red')\n",
    "plt.xlabel('Nilai review (0-100)')\n",
    "plt.ylabel('Harga(Dalam $)')\n",
    "plt.show()"
   ]
  },
  {
   "cell_type": "code",
   "execution_count": 34,
   "metadata": {},
   "outputs": [
    {
     "name": "stdout",
     "output_type": "stream",
     "text": [
      "-0.6813526\n",
      "-1.1781702\n",
      "4.8514404\n",
      "44.44146\n",
      "100.517296\n",
      "140.42908\n",
      "98.63519\n",
      "15.207951\n",
      "-1.2409792\n",
      "-0.6423025\n",
      "-0.30592632\n",
      "-0.3423586\n",
      "-0.2690649\n",
      "0.012681007\n",
      "0.0\n"
     ]
    }
   ],
   "source": [
    "diff = 1\n",
    "j=0\n",
    "import numpy as np\n",
    "while(diff!=0):\n",
    "    clusteringD=clustering\n",
    "    i=1\n",
    "    for index1,row_c in Centroids.iterrows():\n",
    "        ED=[]\n",
    "        for index2,row_d in clusteringD.iterrows():\n",
    "            d1=(row_c[\"all_reviews\"]-row_d[\"all_reviews\"])**2\n",
    "            d2=(row_c[\"original_price\"]-row_d[\"original_price\"])**2\n",
    "            d=np.sqrt(d1+d2)\n",
    "            ED.append(d)\n",
    "        clustering[i]=ED\n",
    "        i=i+1\n",
    "\n",
    "    C=[]\n",
    "    for index,row in clustering.iterrows():\n",
    "        min_dist=row[1]\n",
    "        pos=1\n",
    "        for i in range(K):\n",
    "            if row[i+1] < min_dist:\n",
    "                min_dist = row[i+1]\n",
    "                pos=i+1\n",
    "        C.append(pos)\n",
    "    clustering[\"Cluster\"]=C\n",
    "    Centroids_new = clustering.groupby([\"Cluster\"]).mean()[[\"original_price\",\"all_reviews\"]]\n",
    "    if j == 0:\n",
    "        diff=1\n",
    "        j=j+1\n",
    "    else:\n",
    "        diff = (Centroids_new['original_price'] - Centroids['original_price']).sum() + (Centroids_new['all_reviews'] - Centroids['all_reviews']).sum()\n",
    "        print(diff.sum())\n",
    "    Centroids = clustering.groupby([\"Cluster\"]).mean()[[\"original_price\",\"all_reviews\"]]"
   ]
  },
  {
   "cell_type": "code",
   "execution_count": 35,
   "metadata": {},
   "outputs": [
    {
     "data": {
      "image/png": "[encoded data removed]",
      "text/plain": [
       "<Figure size 432x288 with 1 Axes>"
      ]
     },
     "metadata": {
      "needs_background": "light"
     },
     "output_type": "display_data"
    }
   ],
   "source": [
    "\n",
    "color=['blue','green','cyan']\n",
    "for k in range(K):\n",
    "    data=clustering[clustering[\"Cluster\"]==k+1]\n",
    "    plt.scatter(data[\"all_reviews\"],data[\"original_price\"],c=color[k])\n",
    "plt.scatter(Centroids[\"all_reviews\"],Centroids[\"original_price\"],c='red')\n",
    "plt.xlabel('all_reviews')\n",
    "plt.ylabel('original_price')\n",
    "plt.show()"
   ]
  },
  {
   "cell_type": "code",
   "execution_count": 36,
   "metadata": {},
   "outputs": [
    {
     "ename": "NameError",
     "evalue": "name 'c' is not defined",
     "output_type": "error",
     "traceback": [
      "\u001b[1;31m---------------------------------------------------------------------------\u001b[0m",
      "\u001b[1;31mNameError\u001b[0m                                 Traceback (most recent call last)",
      "\u001b[1;32m<ipython-input-36-1dd5973cae19>\u001b[0m in \u001b[0;36m<module>\u001b[1;34m\u001b[0m\n\u001b[1;32m----> 1\u001b[1;33m \u001b[0mprint\u001b[0m\u001b[1;33m(\u001b[0m\u001b[0mc\u001b[0m\u001b[1;33m)\u001b[0m\u001b[1;33m\u001b[0m\u001b[1;33m\u001b[0m\u001b[0m\n\u001b[0m",
      "\u001b[1;31mNameError\u001b[0m: name 'c' is not defined"
     ]
    }
   ],
   "source": [
    "print(c)"
   ]
  },
  {
   "cell_type": "code",
   "execution_count": null,
   "metadata": {},
   "outputs": [],
   "source": [
    "diff = 1\n",
    "j=0\n",
    "\n",
    "while(diff!=0):\n",
    "    clusteringD=clustering\n",
    "    i=1\n",
    "    for index1,row_c in Centroids.iterrows():\n",
    "        ED=[]\n",
    "        for index2,row_d in clusteringD.iterrows():\n",
    "            d1=(row_c[\"all_reviews\"]-row_d[\"all_reviews\"])**2\n",
    "            d2=(row_c[\"original_price\"]-row_d[\"original_price\"])**2\n",
    "            d=np.sqrt(d1+d2)\n",
    "            ED.append(d)\n",
    "        clustering[i]=ED\n",
    "        i=i+1\n",
    "\n",
    "    C=[]\n",
    "    for index,row in clustering.iterrows():\n",
    "        min_dist=row[1]\n",
    "        pos=1\n",
    "        for i in range(K):\n",
    "            if row[i+1] < min_dist:\n",
    "                min_dist = row[i+1]\n",
    "                pos=i+1\n",
    "        C.append(pos)\n",
    "    clustering[\"Cluster\"]=C\n",
    "    Centroids_new = clustering.groupby([\"Cluster\"]).mean()[[\"original_price\",\"all_reviews\"]]\n",
    "    if j == 0:\n",
    "        diff=1\n",
    "        j=j+1\n",
    "    else:\n",
    "        diff = (Centroids_new['original_price'] - Centroids['original_price']).sum() + (Centroids_new['all_reviews'] - Centroids['all_reviews']).sum()\n",
    "        print(diff.sum())\n",
    "    Centroids = clustering.groupby([\"Cluster\"]).mean()[[\"original_price\",\"all_reviews\"]]"
   ]
  },
  {
   "cell_type": "code",
   "execution_count": null,
   "metadata": {},
   "outputs": [],
   "source": [
    "color=['blue','green','cyan']\n",
    "for k in range(K):\n",
    "    data=clustering[clustering[\"Cluster\"]==k+1]\n",
    "    plt.scatter(data[\"all_reviews\"],data[\"original_price\"],c=color[k])\n",
    "plt.scatter(Centroids[\"all_reviews\"],Centroids[\"original_price\"],c='red')\n",
    "plt.xlabel('all_reviews')\n",
    "plt.ylabel('original_price')\n",
    "plt.show()"
   ]
  },
  {
   "cell_type": "code",
   "execution_count": null,
   "metadata": {},
   "outputs": [],
   "source": [
    "import numpy as np\n",
    "import matplotlib.pyplot as plt\n",
    "\n",
    "# Create data\n",
    "N = 500\n",
    "x = clustering[\"all_reviews\"]\n",
    "y = pd.DataFrame(np.random.rand(10,3), columns = list('original_price'))\n",
    "colors = (0,0,0)\n",
    "area = np.pi*3\n",
    "\n",
    "# Plot\n",
    "plt.scatter(x, y, s=area, c=colors, alpha=0.5)\n",
    "plt.title('Scatter plot pythonspot.com')\n",
    "plt.xlabel('x')\n",
    "plt.ylabel('y')\n",
    "plt.show()"
   ]
  },
  {
   "cell_type": "code",
   "execution_count": null,
   "metadata": {},
   "outputs": [],
   "source": []
  }
 ],
 "metadata": {
  "kernelspec": {
   "display_name": "Python 3",
   "language": "python",
   "name": "python3"
  },
  "language_info": {
   "codemirror_mode": {
    "name": "ipython",
    "version": 3
   },
   "file_extension": ".py",
   "mimetype": "text/x-python",
   "name": "python",
   "nbconvert_exporter": "python",
   "pygments_lexer": "ipython3",
   "version": "3.7.4"
  }
 },
 "nbformat": 4,
 "nbformat_minor": 2
}
